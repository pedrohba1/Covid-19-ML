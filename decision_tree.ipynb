{
 "cells": [
  {
   "cell_type": "code",
   "execution_count": 28,
   "metadata": {},
   "outputs": [],
   "source": [
    "import pandas as pd\n",
    "import numpy as np\n",
    "import matplotlib.pyplot as plt\n",
    "from sklearn.tree import DecisionTreeClassifier\n",
    "from sklearn.model_selection import cross_val_score"
   ]
  },
  {
   "cell_type": "markdown",
   "metadata": {},
   "source": [
    "# Separando o dataset de treinamento do dataset de teste\n",
    "<text>\n",
    "Os dados foram separados colocando 70% do dataset aleatoriamente como treinamento, e o que sobra vai para o teste.\n",
    "</text>"
   ]
  },
  {
   "cell_type": "code",
   "execution_count": 29,
   "metadata": {},
   "outputs": [
    {
     "name": "stdout",
     "output_type": "stream",
     "text": [
      "(120, 8) (120,)\n"
     ]
    }
   ],
   "source": [
    "df = pd.read_csv('covid_Einstein.csv')\n",
    "\n",
    "#separando o dataframe de testes e o de treinamento\n",
    "X = df.loc[:, df.columns != 'Exame']\n",
    "y =  df['Exame']\n",
    "\n",
    "print(X.shape, y.shape)"
   ]
  },
  {
   "cell_type": "markdown",
   "metadata": {},
   "source": [
    "# Criando as árvores de decisão\n",
    "\n",
    "<text>\n",
    "Uma das árvores utiliza o splitter aleatório enquanto a outra usa o aprimorado.\n",
    "</text>\n",
    "\n",
    "<text> \n",
    "Foi usado um cross-validation \"splittando\" os dados em 10 iterações.\n",
    "</text>"
   ]
  },
  {
   "cell_type": "code",
   "execution_count": 37,
   "metadata": {},
   "outputs": [],
   "source": [
    "tree_default = DecisionTreeClassifier(criterion='gini', random_state=10, splitter='random')\n",
    "tree_best = DecisionTreeClassifier(min_samples_leaf=5, max_depth = 4, criterion='gini', random_state=10, splitter='best')\n",
    "\n",
    "scores_default = cross_val_score(tree_default, X, y, cv=10)\n",
    "scores_best = cross_val_score(tree_best, X, y, cv=10)\n"
   ]
  },
  {
   "cell_type": "markdown",
   "metadata": {},
   "source": [
    "# Previsão\n",
    "<text>Agora vamos checar os valores de acurácia que resultaram dos 10 splits de cada árvore, bme como a acurácia de cada uma  </text>"
   ]
  },
  {
   "cell_type": "code",
   "execution_count": 38,
   "metadata": {},
   "outputs": [
    {
     "data": {
      "text/plain": [
       "array([0.75      , 0.66666667, 0.91666667, 0.66666667, 0.75      ,\n",
       "       0.75      , 0.58333333, 0.5       , 0.66666667, 0.91666667])"
      ]
     },
     "execution_count": 38,
     "metadata": {},
     "output_type": "execute_result"
    }
   ],
   "source": [
    "scores_default"
   ]
  },
  {
   "cell_type": "code",
   "execution_count": 39,
   "metadata": {},
   "outputs": [
    {
     "data": {
      "text/plain": [
       "{'whiskers': [<matplotlib.lines.Line2D at 0x7fe254a48af0>,\n",
       "  <matplotlib.lines.Line2D at 0x7fe254b87760>],\n",
       " 'caps': [<matplotlib.lines.Line2D at 0x7fe254abee50>,\n",
       "  <matplotlib.lines.Line2D at 0x7fe2549f6fa0>],\n",
       " 'boxes': [<matplotlib.lines.Line2D at 0x7fe254a48790>],\n",
       " 'medians': [<matplotlib.lines.Line2D at 0x7fe254a06790>],\n",
       " 'fliers': [<matplotlib.lines.Line2D at 0x7fe2549ea7f0>],\n",
       " 'means': []}"
      ]
     },
     "execution_count": 39,
     "metadata": {},
     "output_type": "execute_result"
    },
    {
     "data": {
      "image/png": "[encoded data removed]",
      "text/plain": [
       "<Figure size 432x288 with 1 Axes>"
      ]
     },
     "metadata": {
      "needs_background": "light"
     },
     "output_type": "display_data"
    }
   ],
   "source": [
    "fig1, ax1 = plt.subplots()\n",
    "ax1.set_title('plot dos scores da árvore padrão')\n",
    "ax1.boxplot(scores_default)"
   ]
  },
  {
   "cell_type": "code",
   "execution_count": 40,
   "metadata": {},
   "outputs": [
    {
     "data": {
      "text/plain": [
       "array([0.75      , 0.58333333, 0.75      , 0.66666667, 0.66666667,\n",
       "       0.58333333, 0.83333333, 0.75      , 0.66666667, 0.75      ])"
      ]
     },
     "execution_count": 40,
     "metadata": {},
     "output_type": "execute_result"
    }
   ],
   "source": [
    "scores_best"
   ]
  },
  {
   "cell_type": "code",
   "execution_count": 41,
   "metadata": {},
   "outputs": [
    {
     "data": {
      "text/plain": [
       "{'whiskers': [<matplotlib.lines.Line2D at 0x7fe2548eb730>,\n",
       "  <matplotlib.lines.Line2D at 0x7fe2548eba90>],\n",
       " 'caps': [<matplotlib.lines.Line2D at 0x7fe2548ebdf0>,\n",
       "  <matplotlib.lines.Line2D at 0x7fe2548f7190>],\n",
       " 'boxes': [<matplotlib.lines.Line2D at 0x7fe2548eb3d0>],\n",
       " 'medians': [<matplotlib.lines.Line2D at 0x7fe2548f74f0>],\n",
       " 'fliers': [<matplotlib.lines.Line2D at 0x7fe2548f7850>],\n",
       " 'means': []}"
      ]
     },
     "execution_count": 41,
     "metadata": {},
     "output_type": "execute_result"
    },
    {
     "data": {
      "image/png": "[encoded data removed]",
      "text/plain": [
       "<Figure size 432x288 with 1 Axes>"
      ]
     },
     "metadata": {
      "needs_background": "light"
     },
     "output_type": "display_data"
    }
   ],
   "source": [
    "fig1, ax1 = plt.subplots()\n",
    "ax1.set_title('plot dos scores da árvore melhor')\n",
    "ax1.boxplot(scores_best)"
   ]
  },
  {
   "cell_type": "markdown",
   "metadata": {},
   "source": [
    "# previsão para a árvore padrão"
   ]
  },
  {
   "cell_type": "code",
   "execution_count": 35,
   "metadata": {},
   "outputs": [
    {
     "name": "stdout",
     "output_type": "stream",
     "text": [
      "Accuracy: 0.72 (+/- 0.25)\n"
     ]
    }
   ],
   "source": [
    "print(\"Accuracy: %0.2f (+/- %0.2f)\" % (scores_default.mean(), scores_default.std() * 2))"
   ]
  },
  {
   "cell_type": "markdown",
   "metadata": {},
   "source": [
    "# Previsão para árvore melhor"
   ]
  },
  {
   "cell_type": "code",
   "execution_count": 36,
   "metadata": {},
   "outputs": [
    {
     "name": "stdout",
     "output_type": "stream",
     "text": [
      "Accuracy: 0.75 (+/- 0.24)\n"
     ]
    }
   ],
   "source": [
    "print(\"Accuracy: %0.2f (+/- %0.2f)\" % (scores_best.mean(), scores_best.std() * 2))"
   ]
  }
 ],
 "metadata": {
  "kernelspec": {
   "display_name": "Python 3",
   "language": "python",
   "name": "python3"
  },
  "language_info": {
   "codemirror_mode": {
    "name": "ipython",
    "version": 3
   },
   "file_extension": ".py",
   "mimetype": "text/x-python",
   "name": "python",
   "nbconvert_exporter": "python",
   "pygments_lexer": "ipython3",
   "version": "3.8.3"
  }
 },
 "nbformat": 4,
 "nbformat_minor": 4
}
