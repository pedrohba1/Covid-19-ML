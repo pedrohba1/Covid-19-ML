{
 "cells": [
  {
   "cell_type": "code",
   "execution_count": 120,
   "metadata": {},
   "outputs": [],
   "source": [
    "import pandas as pd\n",
    "import numpy as np\n",
    "import matplotlib.pyplot as plt\n",
    "from sklearn.tree import DecisionTreeClassifier\n",
    "from sklearn.model_selection import cross_val_score"
   ]
  },
  {
   "cell_type": "markdown",
   "metadata": {},
   "source": [
    "# Separando o dataset de treinamento do dataset de teste\n",
    "<text>\n",
    "Os dados foram separados colocando 70% do dataset aleatoriamente como treinamento, e o que sobra vai para o teste.\n",
    "</text>"
   ]
  },
  {
   "cell_type": "code",
   "execution_count": 121,
   "metadata": {},
   "outputs": [
    {
     "name": "stdout",
     "output_type": "stream",
     "text": [
      "(120, 8) (120,)\n"
     ]
    }
   ],
   "source": [
    "df = pd.read_csv('covid_Einstein.csv')\n",
    "\n",
    "#separando o dataframe de testes e o de treinamento\n",
    "X = df.loc[:, df.columns != 'Exame']\n",
    "y =  df['Exame']\n",
    "\n",
    "print(X.shape, y.shape)"
   ]
  },
  {
   "cell_type": "markdown",
   "metadata": {},
   "source": [
    "# Criando as árvores de decisão\n",
    "\n",
    "<text>\n",
    "Uma das árvores utiliza o splitter aleatório enquanto a outra usa o aprimorado.\n",
    "</text>\n",
    "\n",
    "<text> \n",
    "Foi usado um cross-validation \"splittando\" os dados em 10 iterações.\n",
    "</text>"
   ]
  },
  {
   "cell_type": "code",
   "execution_count": 129,
   "metadata": {},
   "outputs": [],
   "source": [
    "tree_default = DecisionTreeClassifier(random_state=10)\n",
    "tree_best = DecisionTreeClassifier(min_samples_leaf=5, max_depth = 1, criterion='entropy', random_state=10, splitter='best')\n",
    "\n",
    "scores_default = cross_val_score(tree_default, X, y, cv=10)\n",
    "scores_best = cross_val_score(tree_best, X, y, cv=10)\n"
   ]
  },
  {
   "cell_type": "markdown",
   "metadata": {},
   "source": [
    "# Previsão\n",
    "<text>Agora vamos checar os valores de acurácia que resultaram dos 10 splits de cada árvore, bme como a acurácia de cada uma  </text>"
   ]
  },
  {
   "cell_type": "code",
   "execution_count": 130,
   "metadata": {},
   "outputs": [
    {
     "data": {
      "text/plain": [
       "array([0.91666667, 0.66666667, 0.66666667, 0.66666667, 0.83333333,\n",
       "       0.66666667, 0.58333333, 0.58333333, 0.58333333, 0.75      ])"
      ]
     },
     "execution_count": 130,
     "metadata": {},
     "output_type": "execute_result"
    }
   ],
   "source": [
    "scores_default"
   ]
  },
  {
   "cell_type": "code",
   "execution_count": 131,
   "metadata": {},
   "outputs": [
    {
     "data": {
      "text/plain": [
       "{'whiskers': [<matplotlib.lines.Line2D at 0x7fe2541092b0>,\n",
       "  <matplotlib.lines.Line2D at 0x7fe254109610>],\n",
       " 'caps': [<matplotlib.lines.Line2D at 0x7fe254109970>,\n",
       "  <matplotlib.lines.Line2D at 0x7fe254109cd0>],\n",
       " 'boxes': [<matplotlib.lines.Line2D at 0x7fe2540fef10>],\n",
       " 'medians': [<matplotlib.lines.Line2D at 0x7fe254095070>],\n",
       " 'fliers': [<matplotlib.lines.Line2D at 0x7fe2540953d0>],\n",
       " 'means': []}"
      ]
     },
     "execution_count": 131,
     "metadata": {},
     "output_type": "execute_result"
    },
    {
     "data": {
      "image/png": "[encoded data removed]",
      "text/plain": [
       "<Figure size 432x288 with 1 Axes>"
      ]
     },
     "metadata": {
      "needs_background": "light"
     },
     "output_type": "display_data"
    }
   ],
   "source": [
    "fig1, ax1 = plt.subplots()\n",
    "ax1.set_title('plot dos scores da árvore padrão')\n",
    "ax1.boxplot(scores_default)"
   ]
  },
  {
   "cell_type": "code",
   "execution_count": 132,
   "metadata": {},
   "outputs": [
    {
     "data": {
      "text/plain": [
       "array([0.75      , 0.75      , 0.83333333, 0.75      , 0.83333333,\n",
       "       0.66666667, 0.66666667, 0.75      , 0.75      , 0.91666667])"
      ]
     },
     "execution_count": 132,
     "metadata": {},
     "output_type": "execute_result"
    }
   ],
   "source": [
    "scores_best"
   ]
  },
  {
   "cell_type": "code",
   "execution_count": 133,
   "metadata": {},
   "outputs": [
    {
     "data": {
      "text/plain": [
       "{'whiskers': [<matplotlib.lines.Line2D at 0x7fe25405dc70>,\n",
       "  <matplotlib.lines.Line2D at 0x7fe25405dfd0>],\n",
       " 'caps': [<matplotlib.lines.Line2D at 0x7fe25406c370>,\n",
       "  <matplotlib.lines.Line2D at 0x7fe25406c730>],\n",
       " 'boxes': [<matplotlib.lines.Line2D at 0x7fe25405d910>],\n",
       " 'medians': [<matplotlib.lines.Line2D at 0x7fe25406ca90>],\n",
       " 'fliers': [<matplotlib.lines.Line2D at 0x7fe25406cdf0>],\n",
       " 'means': []}"
      ]
     },
     "execution_count": 133,
     "metadata": {},
     "output_type": "execute_result"
    },
    {
     "data": {
      "image/png": "[encoded data removed]",
      "text/plain": [
       "<Figure size 432x288 with 1 Axes>"
      ]
     },
     "metadata": {
      "needs_background": "light"
     },
     "output_type": "display_data"
    }
   ],
   "source": [
    "fig1, ax1 = plt.subplots()\n",
    "ax1.set_title('plot dos scores da árvore melhor')\n",
    "ax1.boxplot(scores_best)"
   ]
  },
  {
   "cell_type": "markdown",
   "metadata": {},
   "source": [
    "# previsão para a árvore padrão"
   ]
  },
  {
   "cell_type": "code",
   "execution_count": 134,
   "metadata": {},
   "outputs": [
    {
     "name": "stdout",
     "output_type": "stream",
     "text": [
      "Accuracy: 0.69 (+/- 0.21)\n"
     ]
    }
   ],
   "source": [
    "print(\"Accuracy: %0.2f (+/- %0.2f)\" % (scores_default.mean(), scores_default.std() * 2))"
   ]
  },
  {
   "cell_type": "markdown",
   "metadata": {},
   "source": [
    "# Previsão para árvore melhor"
   ]
  },
  {
   "cell_type": "code",
   "execution_count": 135,
   "metadata": {},
   "outputs": [
    {
     "name": "stdout",
     "output_type": "stream",
     "text": [
      "Accuracy: 0.77 (+/- 0.15)\n"
     ]
    }
   ],
   "source": [
    "print(\"Accuracy: %0.2f (+/- %0.2f)\" % (scores_best.mean(), scores_best.std() * 2))"
   ]
  }
 ],
 "metadata": {
  "kernelspec": {
   "display_name": "Python 3",
   "language": "python",
   "name": "python3"
  },
  "language_info": {
   "codemirror_mode": {
    "name": "ipython",
    "version": 3
   },
   "file_extension": ".py",
   "mimetype": "text/x-python",
   "name": "python",
   "nbconvert_exporter": "python",
   "pygments_lexer": "ipython3",
   "version": "3.8.3"
  }
 },
 "nbformat": 4,
 "nbformat_minor": 4
}
