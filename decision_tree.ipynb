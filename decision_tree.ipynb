{
 "cells": [
  {
   "cell_type": "code",
   "execution_count": 97,
   "metadata": {},
   "outputs": [],
   "source": [
    "import pandas as pd\n",
    "from numpy.random import RandomState\n",
    "import numpy as np\n",
    "import matplotlib.pyplot as plt7\n",
    "from sklearn.tree import DecisionTreeClassifier\n",
    "from sklearn.datasets import load_iris \n",
    "from sklearn import metrics # calculo de acurácia"
   ]
  },
  {
   "cell_type": "markdown",
   "metadata": {},
   "source": [
    "# Separando o dataset de treinamento do dataset de teste"
   ]
  },
  {
   "cell_type": "code",
   "execution_count": 98,
   "metadata": {},
   "outputs": [
    {
     "data": {
      "text/html": [
       "<div>\n",
       "<style scoped>\n",
       "    .dataframe tbody tr th:only-of-type {\n",
       "        vertical-align: middle;\n",
       "    }\n",
       "\n",
       "    .dataframe tbody tr th {\n",
       "        vertical-align: top;\n",
       "    }\n",
       "\n",
       "    .dataframe thead th {\n",
       "        text-align: right;\n",
       "    }\n",
       "</style>\n",
       "<table border=\"1\" class=\"dataframe\">\n",
       "  <thead>\n",
       "    <tr style=\"text-align: right;\">\n",
       "      <th></th>\n",
       "      <th>Idade_hst</th>\n",
       "      <th>Leucocitos</th>\n",
       "      <th>Plaquetas</th>\n",
       "      <th>Neutrofilos</th>\n",
       "      <th>Linfocitos</th>\n",
       "      <th>Monocitos</th>\n",
       "      <th>Eosinofilos</th>\n",
       "      <th>Basofilos</th>\n",
       "      <th>Exame</th>\n",
       "    </tr>\n",
       "  </thead>\n",
       "  <tbody>\n",
       "    <tr>\n",
       "      <th>50</th>\n",
       "      <td>15</td>\n",
       "      <td>-0.820919</td>\n",
       "      <td>-0.718402</td>\n",
       "      <td>1.282118</td>\n",
       "      <td>-0.935404</td>\n",
       "      <td>-0.456613</td>\n",
       "      <td>-0.666950</td>\n",
       "      <td>-1.140144</td>\n",
       "      <td>positive</td>\n",
       "    </tr>\n",
       "    <tr>\n",
       "      <th>111</th>\n",
       "      <td>18</td>\n",
       "      <td>-1.469310</td>\n",
       "      <td>-1.936897</td>\n",
       "      <td>-1.118972</td>\n",
       "      <td>-0.116616</td>\n",
       "      <td>4.533397</td>\n",
       "      <td>-0.666950</td>\n",
       "      <td>0.998070</td>\n",
       "      <td>negative</td>\n",
       "    </tr>\n",
       "    <tr>\n",
       "      <th>119</th>\n",
       "      <td>19</td>\n",
       "      <td>-0.459156</td>\n",
       "      <td>-0.391795</td>\n",
       "      <td>-0.307682</td>\n",
       "      <td>-0.082499</td>\n",
       "      <td>1.329285</td>\n",
       "      <td>0.302256</td>\n",
       "      <td>-0.223767</td>\n",
       "      <td>negative</td>\n",
       "    </tr>\n",
       "    <tr>\n",
       "      <th>116</th>\n",
       "      <td>6</td>\n",
       "      <td>0.420206</td>\n",
       "      <td>0.638273</td>\n",
       "      <td>1.257534</td>\n",
       "      <td>-0.909817</td>\n",
       "      <td>-0.640455</td>\n",
       "      <td>-0.624811</td>\n",
       "      <td>0.692611</td>\n",
       "      <td>negative</td>\n",
       "    </tr>\n",
       "    <tr>\n",
       "      <th>24</th>\n",
       "      <td>19</td>\n",
       "      <td>-1.007366</td>\n",
       "      <td>-1.321369</td>\n",
       "      <td>0.528192</td>\n",
       "      <td>-0.287196</td>\n",
       "      <td>-0.036401</td>\n",
       "      <td>-0.751229</td>\n",
       "      <td>-0.529226</td>\n",
       "      <td>positive</td>\n",
       "    </tr>\n",
       "  </tbody>\n",
       "</table>\n",
       "</div>"
      ],
      "text/plain": [
       "     Idade_hst  Leucocitos  Plaquetas  Neutrofilos  Linfocitos  Monocitos  \\\n",
       "50          15   -0.820919  -0.718402     1.282118   -0.935404  -0.456613   \n",
       "111         18   -1.469310  -1.936897    -1.118972   -0.116616   4.533397   \n",
       "119         19   -0.459156  -0.391795    -0.307682   -0.082499   1.329285   \n",
       "116          6    0.420206   0.638273     1.257534   -0.909817  -0.640455   \n",
       "24          19   -1.007366  -1.321369     0.528192   -0.287196  -0.036401   \n",
       "\n",
       "     Eosinofilos  Basofilos     Exame  \n",
       "50     -0.666950  -1.140144  positive  \n",
       "111    -0.666950   0.998070  negative  \n",
       "119     0.302256  -0.223767  negative  \n",
       "116    -0.624811   0.692611  negative  \n",
       "24     -0.751229  -0.529226  positive  "
      ]
     },
     "execution_count": 98,
     "metadata": {},
     "output_type": "execute_result"
    }
   ],
   "source": [
    "df = pd.read_csv('covid_Einstein.csv')\n",
    "rng = RandomState()\n",
    "\n",
    "\n",
    "#separando o dataframe de testes e o de treinamento\n",
    "\n",
    "# pega 70% do dataset aleatoriamente\n",
    "train = df.sample(frac=0.7, random_state=rng)\n",
    "\n",
    "# Pega os 30% restantes e coloca em testes\n",
    "test = df.loc[~df.index.isin(train.index)]\n",
    "\n",
    "train.head()\n"
   ]
  },
  {
   "cell_type": "code",
   "execution_count": 99,
   "metadata": {},
   "outputs": [
    {
     "data": {
      "text/html": [
       "<div>\n",
       "<style scoped>\n",
       "    .dataframe tbody tr th:only-of-type {\n",
       "        vertical-align: middle;\n",
       "    }\n",
       "\n",
       "    .dataframe tbody tr th {\n",
       "        vertical-align: top;\n",
       "    }\n",
       "\n",
       "    .dataframe thead th {\n",
       "        text-align: right;\n",
       "    }\n",
       "</style>\n",
       "<table border=\"1\" class=\"dataframe\">\n",
       "  <thead>\n",
       "    <tr style=\"text-align: right;\">\n",
       "      <th></th>\n",
       "      <th>Idade_hst</th>\n",
       "      <th>Leucocitos</th>\n",
       "      <th>Plaquetas</th>\n",
       "      <th>Neutrofilos</th>\n",
       "      <th>Linfocitos</th>\n",
       "      <th>Monocitos</th>\n",
       "      <th>Eosinofilos</th>\n",
       "      <th>Basofilos</th>\n",
       "      <th>Exame</th>\n",
       "    </tr>\n",
       "  </thead>\n",
       "  <tbody>\n",
       "    <tr>\n",
       "      <th>3</th>\n",
       "      <td>19</td>\n",
       "      <td>-1.207727</td>\n",
       "      <td>-1.045009</td>\n",
       "      <td>-0.414215</td>\n",
       "      <td>-0.210435</td>\n",
       "      <td>2.353550</td>\n",
       "      <td>-0.245556</td>\n",
       "      <td>0.387152</td>\n",
       "      <td>positive</td>\n",
       "    </tr>\n",
       "    <tr>\n",
       "      <th>7</th>\n",
       "      <td>14</td>\n",
       "      <td>-0.734652</td>\n",
       "      <td>1.756275</td>\n",
       "      <td>0.839596</td>\n",
       "      <td>-0.960991</td>\n",
       "      <td>0.331284</td>\n",
       "      <td>0.091559</td>\n",
       "      <td>1.608988</td>\n",
       "      <td>positive</td>\n",
       "    </tr>\n",
       "    <tr>\n",
       "      <th>19</th>\n",
       "      <td>10</td>\n",
       "      <td>-0.990669</td>\n",
       "      <td>0.738768</td>\n",
       "      <td>-0.315877</td>\n",
       "      <td>0.608353</td>\n",
       "      <td>-0.246507</td>\n",
       "      <td>-0.624811</td>\n",
       "      <td>0.387152</td>\n",
       "      <td>positive</td>\n",
       "    </tr>\n",
       "    <tr>\n",
       "      <th>20</th>\n",
       "      <td>12</td>\n",
       "      <td>0.275501</td>\n",
       "      <td>0.273981</td>\n",
       "      <td>1.232949</td>\n",
       "      <td>-1.268037</td>\n",
       "      <td>0.646442</td>\n",
       "      <td>-0.709090</td>\n",
       "      <td>0.081693</td>\n",
       "      <td>positive</td>\n",
       "    </tr>\n",
       "    <tr>\n",
       "      <th>21</th>\n",
       "      <td>12</td>\n",
       "      <td>-0.662300</td>\n",
       "      <td>-0.529975</td>\n",
       "      <td>0.667504</td>\n",
       "      <td>-0.679533</td>\n",
       "      <td>0.488863</td>\n",
       "      <td>-0.456253</td>\n",
       "      <td>0.081693</td>\n",
       "      <td>positive</td>\n",
       "    </tr>\n",
       "  </tbody>\n",
       "</table>\n",
       "</div>"
      ],
      "text/plain": [
       "    Idade_hst  Leucocitos  Plaquetas  Neutrofilos  Linfocitos  Monocitos  \\\n",
       "3          19   -1.207727  -1.045009    -0.414215   -0.210435   2.353550   \n",
       "7          14   -0.734652   1.756275     0.839596   -0.960991   0.331284   \n",
       "19         10   -0.990669   0.738768    -0.315877    0.608353  -0.246507   \n",
       "20         12    0.275501   0.273981     1.232949   -1.268037   0.646442   \n",
       "21         12   -0.662300  -0.529975     0.667504   -0.679533   0.488863   \n",
       "\n",
       "    Eosinofilos  Basofilos     Exame  \n",
       "3     -0.245556   0.387152  positive  \n",
       "7      0.091559   1.608988  positive  \n",
       "19    -0.624811   0.387152  positive  \n",
       "20    -0.709090   0.081693  positive  \n",
       "21    -0.456253   0.081693  positive  "
      ]
     },
     "execution_count": 99,
     "metadata": {},
     "output_type": "execute_result"
    }
   ],
   "source": [
    "test.head()"
   ]
  },
  {
   "cell_type": "markdown",
   "metadata": {},
   "source": [
    "# Criando uma árvore de decisão\n",
    "\n",
    "<text> È preciso separar as variáveis que serão usa para a previsão, dá variável que será prevista. As variaǘeis de previsão são armazenadas no array X e a variável para prever será separada em y </text>"
   ]
  },
  {
   "cell_type": "code",
   "execution_count": 100,
   "metadata": {},
   "outputs": [
    {
     "data": {
      "text/html": [
       "<div>\n",
       "<style scoped>\n",
       "    .dataframe tbody tr th:only-of-type {\n",
       "        vertical-align: middle;\n",
       "    }\n",
       "\n",
       "    .dataframe tbody tr th {\n",
       "        vertical-align: top;\n",
       "    }\n",
       "\n",
       "    .dataframe thead th {\n",
       "        text-align: right;\n",
       "    }\n",
       "</style>\n",
       "<table border=\"1\" class=\"dataframe\">\n",
       "  <thead>\n",
       "    <tr style=\"text-align: right;\">\n",
       "      <th></th>\n",
       "      <th>Idade_hst</th>\n",
       "      <th>Leucocitos</th>\n",
       "      <th>Plaquetas</th>\n",
       "      <th>Neutrofilos</th>\n",
       "      <th>Linfocitos</th>\n",
       "      <th>Monocitos</th>\n",
       "      <th>Eosinofilos</th>\n",
       "      <th>Basofilos</th>\n",
       "    </tr>\n",
       "  </thead>\n",
       "  <tbody>\n",
       "    <tr>\n",
       "      <th>50</th>\n",
       "      <td>15</td>\n",
       "      <td>-0.820919</td>\n",
       "      <td>-0.718402</td>\n",
       "      <td>1.282118</td>\n",
       "      <td>-0.935404</td>\n",
       "      <td>-0.456613</td>\n",
       "      <td>-0.666950</td>\n",
       "      <td>-1.140144</td>\n",
       "    </tr>\n",
       "    <tr>\n",
       "      <th>111</th>\n",
       "      <td>18</td>\n",
       "      <td>-1.469310</td>\n",
       "      <td>-1.936897</td>\n",
       "      <td>-1.118972</td>\n",
       "      <td>-0.116616</td>\n",
       "      <td>4.533397</td>\n",
       "      <td>-0.666950</td>\n",
       "      <td>0.998070</td>\n",
       "    </tr>\n",
       "    <tr>\n",
       "      <th>119</th>\n",
       "      <td>19</td>\n",
       "      <td>-0.459156</td>\n",
       "      <td>-0.391795</td>\n",
       "      <td>-0.307682</td>\n",
       "      <td>-0.082499</td>\n",
       "      <td>1.329285</td>\n",
       "      <td>0.302256</td>\n",
       "      <td>-0.223767</td>\n",
       "    </tr>\n",
       "    <tr>\n",
       "      <th>116</th>\n",
       "      <td>6</td>\n",
       "      <td>0.420206</td>\n",
       "      <td>0.638273</td>\n",
       "      <td>1.257534</td>\n",
       "      <td>-0.909817</td>\n",
       "      <td>-0.640455</td>\n",
       "      <td>-0.624811</td>\n",
       "      <td>0.692611</td>\n",
       "    </tr>\n",
       "    <tr>\n",
       "      <th>24</th>\n",
       "      <td>19</td>\n",
       "      <td>-1.007366</td>\n",
       "      <td>-1.321369</td>\n",
       "      <td>0.528192</td>\n",
       "      <td>-0.287196</td>\n",
       "      <td>-0.036401</td>\n",
       "      <td>-0.751229</td>\n",
       "      <td>-0.529226</td>\n",
       "    </tr>\n",
       "  </tbody>\n",
       "</table>\n",
       "</div>"
      ],
      "text/plain": [
       "     Idade_hst  Leucocitos  Plaquetas  Neutrofilos  Linfocitos  Monocitos  \\\n",
       "50          15   -0.820919  -0.718402     1.282118   -0.935404  -0.456613   \n",
       "111         18   -1.469310  -1.936897    -1.118972   -0.116616   4.533397   \n",
       "119         19   -0.459156  -0.391795    -0.307682   -0.082499   1.329285   \n",
       "116          6    0.420206   0.638273     1.257534   -0.909817  -0.640455   \n",
       "24          19   -1.007366  -1.321369     0.528192   -0.287196  -0.036401   \n",
       "\n",
       "     Eosinofilos  Basofilos  \n",
       "50     -0.666950  -1.140144  \n",
       "111    -0.666950   0.998070  \n",
       "119     0.302256  -0.223767  \n",
       "116    -0.624811   0.692611  \n",
       "24     -0.751229  -0.529226  "
      ]
     },
     "execution_count": 100,
     "metadata": {},
     "output_type": "execute_result"
    }
   ],
   "source": [
    "X_train = train.loc[:, df.columns != 'Exame']\n",
    "X_train.head()"
   ]
  },
  {
   "cell_type": "code",
   "execution_count": 101,
   "metadata": {},
   "outputs": [
    {
     "data": {
      "text/plain": [
       "50     positive\n",
       "111    negative\n",
       "119    negative\n",
       "116    negative\n",
       "24     positive\n",
       "Name: Exame, dtype: object"
      ]
     },
     "execution_count": 101,
     "metadata": {},
     "output_type": "execute_result"
    }
   ],
   "source": [
    "y_train = train['Exame']\n",
    "y_train.head()"
   ]
  },
  {
   "cell_type": "code",
   "execution_count": 102,
   "metadata": {},
   "outputs": [
    {
     "data": {
      "text/plain": [
       "DecisionTreeClassifier(max_depth=4, random_state=0)"
      ]
     },
     "execution_count": 102,
     "metadata": {},
     "output_type": "execute_result"
    }
   ],
   "source": [
    "tree = DecisionTreeClassifier(max_depth = 4, criterion='gini', random_state=0)\n",
    "tree.fit(X_train,y_train)"
   ]
  },
  {
   "cell_type": "markdown",
   "metadata": {},
   "source": [
    "# Previsão\n",
    "<text>Criada a árvore de decisão, agora faz-se a previsão com base no dataset que foi separado como teste </text>"
   ]
  },
  {
   "cell_type": "code",
   "execution_count": 103,
   "metadata": {},
   "outputs": [
    {
     "data": {
      "text/html": [
       "<div>\n",
       "<style scoped>\n",
       "    .dataframe tbody tr th:only-of-type {\n",
       "        vertical-align: middle;\n",
       "    }\n",
       "\n",
       "    .dataframe tbody tr th {\n",
       "        vertical-align: top;\n",
       "    }\n",
       "\n",
       "    .dataframe thead th {\n",
       "        text-align: right;\n",
       "    }\n",
       "</style>\n",
       "<table border=\"1\" class=\"dataframe\">\n",
       "  <thead>\n",
       "    <tr style=\"text-align: right;\">\n",
       "      <th></th>\n",
       "      <th>Idade_hst</th>\n",
       "      <th>Leucocitos</th>\n",
       "      <th>Plaquetas</th>\n",
       "      <th>Neutrofilos</th>\n",
       "      <th>Linfocitos</th>\n",
       "      <th>Monocitos</th>\n",
       "      <th>Eosinofilos</th>\n",
       "      <th>Basofilos</th>\n",
       "    </tr>\n",
       "  </thead>\n",
       "  <tbody>\n",
       "    <tr>\n",
       "      <th>3</th>\n",
       "      <td>19</td>\n",
       "      <td>-1.207727</td>\n",
       "      <td>-1.045009</td>\n",
       "      <td>-0.414215</td>\n",
       "      <td>-0.210435</td>\n",
       "      <td>2.353550</td>\n",
       "      <td>-0.245556</td>\n",
       "      <td>0.387152</td>\n",
       "    </tr>\n",
       "    <tr>\n",
       "      <th>7</th>\n",
       "      <td>14</td>\n",
       "      <td>-0.734652</td>\n",
       "      <td>1.756275</td>\n",
       "      <td>0.839596</td>\n",
       "      <td>-0.960991</td>\n",
       "      <td>0.331284</td>\n",
       "      <td>0.091559</td>\n",
       "      <td>1.608988</td>\n",
       "    </tr>\n",
       "    <tr>\n",
       "      <th>19</th>\n",
       "      <td>10</td>\n",
       "      <td>-0.990669</td>\n",
       "      <td>0.738768</td>\n",
       "      <td>-0.315877</td>\n",
       "      <td>0.608353</td>\n",
       "      <td>-0.246507</td>\n",
       "      <td>-0.624811</td>\n",
       "      <td>0.387152</td>\n",
       "    </tr>\n",
       "    <tr>\n",
       "      <th>20</th>\n",
       "      <td>12</td>\n",
       "      <td>0.275501</td>\n",
       "      <td>0.273981</td>\n",
       "      <td>1.232949</td>\n",
       "      <td>-1.268037</td>\n",
       "      <td>0.646442</td>\n",
       "      <td>-0.709090</td>\n",
       "      <td>0.081693</td>\n",
       "    </tr>\n",
       "    <tr>\n",
       "      <th>21</th>\n",
       "      <td>12</td>\n",
       "      <td>-0.662300</td>\n",
       "      <td>-0.529975</td>\n",
       "      <td>0.667504</td>\n",
       "      <td>-0.679533</td>\n",
       "      <td>0.488863</td>\n",
       "      <td>-0.456253</td>\n",
       "      <td>0.081693</td>\n",
       "    </tr>\n",
       "  </tbody>\n",
       "</table>\n",
       "</div>"
      ],
      "text/plain": [
       "    Idade_hst  Leucocitos  Plaquetas  Neutrofilos  Linfocitos  Monocitos  \\\n",
       "3          19   -1.207727  -1.045009    -0.414215   -0.210435   2.353550   \n",
       "7          14   -0.734652   1.756275     0.839596   -0.960991   0.331284   \n",
       "19         10   -0.990669   0.738768    -0.315877    0.608353  -0.246507   \n",
       "20         12    0.275501   0.273981     1.232949   -1.268037   0.646442   \n",
       "21         12   -0.662300  -0.529975     0.667504   -0.679533   0.488863   \n",
       "\n",
       "    Eosinofilos  Basofilos  \n",
       "3     -0.245556   0.387152  \n",
       "7      0.091559   1.608988  \n",
       "19    -0.624811   0.387152  \n",
       "20    -0.709090   0.081693  \n",
       "21    -0.456253   0.081693  "
      ]
     },
     "execution_count": 103,
     "metadata": {},
     "output_type": "execute_result"
    }
   ],
   "source": [
    "X_test = test.loc[:, df.columns != 'Exame']\n",
    "X_test.head()"
   ]
  },
  {
   "cell_type": "code",
   "execution_count": 104,
   "metadata": {},
   "outputs": [
    {
     "data": {
      "text/plain": [
       "3     positive\n",
       "7     positive\n",
       "19    positive\n",
       "20    positive\n",
       "21    positive\n",
       "Name: Exame, dtype: object"
      ]
     },
     "execution_count": 104,
     "metadata": {},
     "output_type": "execute_result"
    }
   ],
   "source": [
    "y_test = test['Exame']\n",
    "y_test.head()"
   ]
  },
  {
   "cell_type": "code",
   "execution_count": 105,
   "metadata": {},
   "outputs": [],
   "source": [
    "y_pred = tree.predict(X_test)"
   ]
  },
  {
   "cell_type": "code",
   "execution_count": 106,
   "metadata": {},
   "outputs": [
    {
     "name": "stdout",
     "output_type": "stream",
     "text": [
      "Accuracy: 0.7222222222222222\n"
     ]
    }
   ],
   "source": [
    "print(\"Accuracy:\",metrics.accuracy_score(y_test, y_pred))"
   ]
  },
  {
   "cell_type": "code",
   "execution_count": null,
   "metadata": {},
   "outputs": [],
   "source": []
  },
  {
   "cell_type": "code",
   "execution_count": null,
   "metadata": {},
   "outputs": [],
   "source": []
  },
  {
   "cell_type": "code",
   "execution_count": null,
   "metadata": {},
   "outputs": [],
   "source": []
  },
  {
   "cell_type": "code",
   "execution_count": null,
   "metadata": {},
   "outputs": [],
   "source": []
  }
 ],
 "metadata": {
  "kernelspec": {
   "display_name": "Python 3",
   "language": "python",
   "name": "python3"
  },
  "language_info": {
   "codemirror_mode": {
    "name": "ipython",
    "version": 3
   },
   "file_extension": ".py",
   "mimetype": "text/x-python",
   "name": "python",
   "nbconvert_exporter": "python",
   "pygments_lexer": "ipython3",
   "version": "3.8.3"
  }
 },
 "nbformat": 4,
 "nbformat_minor": 4
}
