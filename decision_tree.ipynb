{
 "cells": [
  {
   "cell_type": "code",
   "execution_count": 45,
   "metadata": {},
   "outputs": [],
   "source": [
    "import pandas as pd\n",
    "from numpy.random import RandomState\n",
    "import numpy as np\n",
    "import matplotlib.pyplot as plt7\n",
    "from sklearn.tree import DecisionTreeClassifier\n",
    "from sklearn.model_selection import cross_val_score"
   ]
  },
  {
   "cell_type": "markdown",
   "metadata": {},
   "source": [
    "# Separando o dataset de treinamento do dataset de teste\n",
    "<text>\n",
    "Os dados foram separados colocando 70% do dataset aleatoriamente como treinamento, e o que sobra vai para o teste.\n",
    "</text>"
   ]
  },
  {
   "cell_type": "code",
   "execution_count": 46,
   "metadata": {},
   "outputs": [
    {
     "name": "stdout",
     "output_type": "stream",
     "text": [
      "(120, 8) (120,)\n"
     ]
    }
   ],
   "source": [
    "df = pd.read_csv('covid_Einstein.csv')\n",
    "\n",
    "\n",
    "#separando o dataframe de testes e o de treinamento\n",
    "\n",
    "# pega 70% do dataset aleatoriamente\n",
    "\n",
    "X = df.loc[:, df.columns != 'Exame']\n",
    "# Pega os 30% restantes e coloca em testes\n",
    "y =  df['Exame']\n",
    "print(X.shape, y.shape)\n",
    "\n",
    "\n"
   ]
  },
  {
   "cell_type": "markdown",
   "metadata": {},
   "source": [
    "# Criando uma árvore de decisão\n",
    "\n",
    "<text> È preciso separar as variáveis que serão usa para a previsão, dá variável que será prevista. As variaǘeis de previsão são armazenadas no array X e a variável para prever será separada em y.\n",
    "</text>\n",
    "\n",
    "<text> \n",
    "Foi usado um cross-validation \"splittando\" os dados em 10 iterações.\n",
    "\n",
    "</text>"
   ]
  },
  {
   "cell_type": "code",
   "execution_count": 47,
   "metadata": {},
   "outputs": [],
   "source": [
    "tree_default = DecisionTreeClassifier(max_depth = 4, criterion='gini', random_state=10, splitter='random')\n",
    "tree_best = DecisionTreeClassifier(max_depth = 4, criterion='gini', random_state=10, splitter='best')\n",
    "\n",
    "scores_default = cross_val_score(tree_default, X, y, cv=10)\n",
    "scores_best = cross_val_score(tree_best, X, y, cv=10)\n"
   ]
  },
  {
   "cell_type": "markdown",
   "metadata": {},
   "source": [
    "# Previsão\n",
    "<text>Agora vamos checar os valores de acurácia que resultaram dos 10 splits de cada árvore, bme como a acurácia de cada uma  </text>"
   ]
  },
  {
   "cell_type": "code",
   "execution_count": 48,
   "metadata": {},
   "outputs": [
    {
     "data": {
      "text/plain": [
       "array([0.58333333, 0.66666667, 0.83333333, 0.58333333, 0.75      ,\n",
       "       0.75      , 0.75      , 0.66666667, 0.75      , 0.66666667])"
      ]
     },
     "execution_count": 48,
     "metadata": {},
     "output_type": "execute_result"
    }
   ],
   "source": [
    "scores_default"
   ]
  },
  {
   "cell_type": "code",
   "execution_count": 49,
   "metadata": {},
   "outputs": [
    {
     "data": {
      "text/plain": [
       "array([0.83333333, 0.66666667, 0.83333333, 0.66666667, 0.83333333,\n",
       "       0.66666667, 0.75      , 0.5       , 0.58333333, 0.91666667])"
      ]
     },
     "execution_count": 49,
     "metadata": {},
     "output_type": "execute_result"
    }
   ],
   "source": [
    "scores_best"
   ]
  },
  {
   "cell_type": "markdown",
   "metadata": {},
   "source": [
    "# previsão para a árvore padrão"
   ]
  },
  {
   "cell_type": "code",
   "execution_count": 50,
   "metadata": {},
   "outputs": [
    {
     "name": "stdout",
     "output_type": "stream",
     "text": [
      "Accuracy: 0.70 (+/- 0.15)\n"
     ]
    }
   ],
   "source": [
    "print(\"Accuracy: %0.2f (+/- %0.2f)\" % (scores_default.mean(), scores_default.std() * 2))"
   ]
  },
  {
   "cell_type": "markdown",
   "metadata": {},
   "source": [
    "# Previsão para árvore melhor"
   ]
  },
  {
   "cell_type": "code",
   "execution_count": 51,
   "metadata": {},
   "outputs": [
    {
     "name": "stdout",
     "output_type": "stream",
     "text": [
      "Accuracy: 0.72 (+/- 0.25)\n"
     ]
    }
   ],
   "source": [
    "print(\"Accuracy: %0.2f (+/- %0.2f)\" % (scores_best.mean(), scores_best.std() * 2))"
   ]
  }
 ],
 "metadata": {
  "kernelspec": {
   "display_name": "Python 3",
   "language": "python",
   "name": "python3"
  },
  "language_info": {
   "codemirror_mode": {
    "name": "ipython",
    "version": 3
   },
   "file_extension": ".py",
   "mimetype": "text/x-python",
   "name": "python",
   "nbconvert_exporter": "python",
   "pygments_lexer": "ipython3",
   "version": "3.8.3"
  }
 },
 "nbformat": 4,
 "nbformat_minor": 4
}
