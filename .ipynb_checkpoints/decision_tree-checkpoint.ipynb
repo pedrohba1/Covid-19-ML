{
 "cells": [
  {
   "cell_type": "code",
   "execution_count": 59,
   "metadata": {},
   "outputs": [],
   "source": [
    "import pandas as pd\n",
    "from numpy.random import RandomState\n",
    "import numpy as np\n",
    "import matplotlib.pyplot as plt\n",
    "from sklearn.tree import DecisionTreeClassifier\n",
    "from sklearn.model_selection import cross_val_score"
   ]
  },
  {
   "cell_type": "markdown",
   "metadata": {},
   "source": [
    "# Separando o dataset de treinamento do dataset de teste\n",
    "<text>\n",
    "Os dados foram separados colocando 70% do dataset aleatoriamente como treinamento, e o que sobra vai para o teste.\n",
    "</text>"
   ]
  },
  {
   "cell_type": "code",
   "execution_count": 53,
   "metadata": {},
   "outputs": [
    {
     "name": "stdout",
     "output_type": "stream",
     "text": [
      "(120, 8) (120,)\n"
     ]
    }
   ],
   "source": [
    "df = pd.read_csv('covid_Einstein.csv')\n",
    "\n",
    "\n",
    "#separando o dataframe de testes e o de treinamento\n",
    "\n",
    "# pega 70% do dataset aleatoriamente\n",
    "\n",
    "X = df.loc[:, df.columns != 'Exame']\n",
    "# Pega os 30% restantes e coloca em testes\n",
    "y =  df['Exame']\n",
    "print(X.shape, y.shape)\n",
    "\n",
    "\n"
   ]
  },
  {
   "cell_type": "markdown",
   "metadata": {},
   "source": [
    "# Criando uma árvore de decisão\n",
    "\n",
    "<text> È preciso separar as variáveis que serão usa para a previsão, dá variável que será prevista. As variaǘeis de previsão são armazenadas no array X e a variável para prever será separada em y.\n",
    "</text>\n",
    "\n",
    "<text> \n",
    "Foi usado um cross-validation \"splittando\" os dados em 10 iterações.\n",
    "\n",
    "</text>"
   ]
  },
  {
   "cell_type": "code",
   "execution_count": 54,
   "metadata": {},
   "outputs": [],
   "source": [
    "tree_default = DecisionTreeClassifier(max_depth = 4, criterion='gini', random_state=10, splitter='random')\n",
    "tree_best = DecisionTreeClassifier(max_depth = 4, criterion='gini', random_state=10, splitter='best')\n",
    "\n",
    "scores_default = cross_val_score(tree_default, X, y, cv=10)\n",
    "scores_best = cross_val_score(tree_best, X, y, cv=10)\n"
   ]
  },
  {
   "cell_type": "markdown",
   "metadata": {},
   "source": [
    "# Previsão\n",
    "<text>Agora vamos checar os valores de acurácia que resultaram dos 10 splits de cada árvore, bme como a acurácia de cada uma  </text>"
   ]
  },
  {
   "cell_type": "code",
   "execution_count": 55,
   "metadata": {},
   "outputs": [
    {
     "data": {
      "text/plain": [
       "array([0.58333333, 0.66666667, 0.83333333, 0.58333333, 0.75      ,\n",
       "       0.75      , 0.75      , 0.66666667, 0.75      , 0.66666667])"
      ]
     },
     "execution_count": 55,
     "metadata": {},
     "output_type": "execute_result"
    }
   ],
   "source": [
    "scores_default"
   ]
  },
  {
   "cell_type": "code",
   "execution_count": 56,
   "metadata": {},
   "outputs": [
    {
     "data": {
      "text/plain": [
       "array([0.83333333, 0.66666667, 0.83333333, 0.66666667, 0.83333333,\n",
       "       0.66666667, 0.75      , 0.5       , 0.58333333, 0.91666667])"
      ]
     },
     "execution_count": 56,
     "metadata": {},
     "output_type": "execute_result"
    }
   ],
   "source": [
    "scores_best"
   ]
  },
  {
   "cell_type": "markdown",
   "metadata": {},
   "source": [
    "# previsão para a árvore padrão"
   ]
  },
  {
   "cell_type": "code",
   "execution_count": 57,
   "metadata": {},
   "outputs": [
    {
     "name": "stdout",
     "output_type": "stream",
     "text": [
      "Accuracy: 0.70 (+/- 0.15)\n"
     ]
    }
   ],
   "source": [
    "print(\"Accuracy: %0.2f (+/- %0.2f)\" % (scores_default.mean(), scores_default.std() * 2))"
   ]
  },
  {
   "cell_type": "code",
   "execution_count": 60,
   "metadata": {},
   "outputs": [
    {
     "data": {
      "text/plain": [
       "{'whiskers': [<matplotlib.lines.Line2D at 0x7f334a879b20>,\n",
       "  <matplotlib.lines.Line2D at 0x7f334a879e80>],\n",
       " 'caps': [<matplotlib.lines.Line2D at 0x7f334a896220>,\n",
       "  <matplotlib.lines.Line2D at 0x7f334a896580>],\n",
       " 'boxes': [<matplotlib.lines.Line2D at 0x7f334a8797c0>],\n",
       " 'medians': [<matplotlib.lines.Line2D at 0x7f334a8968e0>],\n",
       " 'fliers': [<matplotlib.lines.Line2D at 0x7f334a896c40>],\n",
       " 'means': []}"
      ]
     },
     "execution_count": 60,
     "metadata": {},
     "output_type": "execute_result"
    },
    {
     "data": {
      "image/png": "[encoded data removed]",
      "text/plain": [
       "<Figure size 432x288 with 1 Axes>"
      ]
     },
     "metadata": {
      "needs_background": "light"
     },
     "output_type": "display_data"
    }
   ],
   "source": [
    "fig1, ax1 = plt.subplots()\n",
    "ax1.set_title('plot dos scores da árvore padrão')\n",
    "ax1.boxplot(scores_default)"
   ]
  },
  {
   "cell_type": "markdown",
   "metadata": {},
   "source": [
    "# Previsão para árvore melhor"
   ]
  },
  {
   "cell_type": "code",
   "execution_count": 58,
   "metadata": {},
   "outputs": [
    {
     "name": "stdout",
     "output_type": "stream",
     "text": [
      "Accuracy: 0.72 (+/- 0.25)\n"
     ]
    }
   ],
   "source": [
    "print(\"Accuracy: %0.2f (+/- %0.2f)\" % (scores_best.mean(), scores_best.std() * 2))"
   ]
  },
  {
   "cell_type": "code",
   "execution_count": 62,
   "metadata": {},
   "outputs": [
    {
     "data": {
      "text/plain": [
       "{'whiskers': [<matplotlib.lines.Line2D at 0x7f3348732280>,\n",
       "  <matplotlib.lines.Line2D at 0x7f33487325e0>],\n",
       " 'caps': [<matplotlib.lines.Line2D at 0x7f3348732940>,\n",
       "  <matplotlib.lines.Line2D at 0x7f3348732ca0>],\n",
       " 'boxes': [<matplotlib.lines.Line2D at 0x7f3348725ee0>],\n",
       " 'medians': [<matplotlib.lines.Line2D at 0x7f334873d040>],\n",
       " 'fliers': [<matplotlib.lines.Line2D at 0x7f334873d3a0>],\n",
       " 'means': []}"
      ]
     },
     "execution_count": 62,
     "metadata": {},
     "output_type": "execute_result"
    },
    {
     "data": {
      "image/png": "[encoded data removed]",
      "text/plain": [
       "<Figure size 432x288 with 1 Axes>"
      ]
     },
     "metadata": {
      "needs_background": "light"
     },
     "output_type": "display_data"
    }
   ],
   "source": [
    "fig1, ax1 = plt.subplots()\n",
    "ax1.set_title('plot dos scores da árvore melhor')\n",
    "ax1.boxplot(scores_best)"
   ]
  },
  {
   "cell_type": "code",
   "execution_count": null,
   "metadata": {},
   "outputs": [],
   "source": []
  }
 ],
 "metadata": {
  "kernelspec": {
   "display_name": "Python 3",
   "language": "python",
   "name": "python3"
  },
  "language_info": {
   "codemirror_mode": {
    "name": "ipython",
    "version": 3
   },
   "file_extension": ".py",
   "mimetype": "text/x-python",
   "name": "python",
   "nbconvert_exporter": "python",
   "pygments_lexer": "ipython3",
   "version": "3.8.3"
  }
 },
 "nbformat": 4,
 "nbformat_minor": 4
}
