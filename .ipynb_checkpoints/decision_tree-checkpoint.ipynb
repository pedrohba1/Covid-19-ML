{
 "cells": [
  {
   "cell_type": "code",
   "execution_count": 164,
   "metadata": {},
   "outputs": [],
   "source": [
    "import pandas as pd\n",
    "from numpy.random import RandomState\n",
    "import numpy as np\n",
    "import matplotlib.pyplot as plt7\n",
    "from sklearn.tree import DecisionTreeClassifier\n",
    "from sklearn.datasets import load_iris \n",
    "from sklearn import metrics # calculo de acurácia"
   ]
  },
  {
   "cell_type": "markdown",
   "metadata": {},
   "source": [
    "# Separando o dataset de treinamento do dataset de teste\n",
    "<text>\n",
    "Os dados foram separados colocando 70% do dataset aleatoriamente como treinamento, e o que sobra vai para o teste.\n",
    "</text>"
   ]
  },
  {
   "cell_type": "code",
   "execution_count": 165,
   "metadata": {},
   "outputs": [
    {
     "data": {
      "text/html": [
       "<div>\n",
       "<style scoped>\n",
       "    .dataframe tbody tr th:only-of-type {\n",
       "        vertical-align: middle;\n",
       "    }\n",
       "\n",
       "    .dataframe tbody tr th {\n",
       "        vertical-align: top;\n",
       "    }\n",
       "\n",
       "    .dataframe thead th {\n",
       "        text-align: right;\n",
       "    }\n",
       "</style>\n",
       "<table border=\"1\" class=\"dataframe\">\n",
       "  <thead>\n",
       "    <tr style=\"text-align: right;\">\n",
       "      <th></th>\n",
       "      <th>Idade_hst</th>\n",
       "      <th>Leucocitos</th>\n",
       "      <th>Plaquetas</th>\n",
       "      <th>Neutrofilos</th>\n",
       "      <th>Linfocitos</th>\n",
       "      <th>Monocitos</th>\n",
       "      <th>Eosinofilos</th>\n",
       "      <th>Basofilos</th>\n",
       "      <th>Exame</th>\n",
       "    </tr>\n",
       "  </thead>\n",
       "  <tbody>\n",
       "    <tr>\n",
       "      <th>4</th>\n",
       "      <td>17</td>\n",
       "      <td>-0.745784</td>\n",
       "      <td>-0.127997</td>\n",
       "      <td>-0.045447</td>\n",
       "      <td>-0.039854</td>\n",
       "      <td>0.935337</td>\n",
       "      <td>-0.751229</td>\n",
       "      <td>0.692611</td>\n",
       "      <td>positive</td>\n",
       "    </tr>\n",
       "    <tr>\n",
       "      <th>63</th>\n",
       "      <td>18</td>\n",
       "      <td>0.573260</td>\n",
       "      <td>-0.529975</td>\n",
       "      <td>0.782232</td>\n",
       "      <td>-0.909817</td>\n",
       "      <td>0.042388</td>\n",
       "      <td>0.765789</td>\n",
       "      <td>0.387152</td>\n",
       "      <td>negative</td>\n",
       "    </tr>\n",
       "    <tr>\n",
       "      <th>90</th>\n",
       "      <td>16</td>\n",
       "      <td>-0.214270</td>\n",
       "      <td>0.902071</td>\n",
       "      <td>-0.742009</td>\n",
       "      <td>0.898341</td>\n",
       "      <td>0.068652</td>\n",
       "      <td>-0.498393</td>\n",
       "      <td>0.081693</td>\n",
       "      <td>negative</td>\n",
       "    </tr>\n",
       "    <tr>\n",
       "      <th>38</th>\n",
       "      <td>16</td>\n",
       "      <td>-1.110329</td>\n",
       "      <td>-1.472111</td>\n",
       "      <td>-0.684645</td>\n",
       "      <td>0.156314</td>\n",
       "      <td>2.012129</td>\n",
       "      <td>-0.119138</td>\n",
       "      <td>0.387152</td>\n",
       "      <td>positive</td>\n",
       "    </tr>\n",
       "    <tr>\n",
       "      <th>109</th>\n",
       "      <td>11</td>\n",
       "      <td>-0.428545</td>\n",
       "      <td>-0.994762</td>\n",
       "      <td>0.233178</td>\n",
       "      <td>-0.773352</td>\n",
       "      <td>1.145443</td>\n",
       "      <td>0.850067</td>\n",
       "      <td>2.525365</td>\n",
       "      <td>negative</td>\n",
       "    </tr>\n",
       "  </tbody>\n",
       "</table>\n",
       "</div>"
      ],
      "text/plain": [
       "     Idade_hst  Leucocitos  Plaquetas  Neutrofilos  Linfocitos  Monocitos  \\\n",
       "4           17   -0.745784  -0.127997    -0.045447   -0.039854   0.935337   \n",
       "63          18    0.573260  -0.529975     0.782232   -0.909817   0.042388   \n",
       "90          16   -0.214270   0.902071    -0.742009    0.898341   0.068652   \n",
       "38          16   -1.110329  -1.472111    -0.684645    0.156314   2.012129   \n",
       "109         11   -0.428545  -0.994762     0.233178   -0.773352   1.145443   \n",
       "\n",
       "     Eosinofilos  Basofilos     Exame  \n",
       "4      -0.751229   0.692611  positive  \n",
       "63      0.765789   0.387152  negative  \n",
       "90     -0.498393   0.081693  negative  \n",
       "38     -0.119138   0.387152  positive  \n",
       "109     0.850067   2.525365  negative  "
      ]
     },
     "execution_count": 165,
     "metadata": {},
     "output_type": "execute_result"
    }
   ],
   "source": [
    "df = pd.read_csv('covid_Einstein.csv')\n",
    "rng = RandomState()\n",
    "\n",
    "\n",
    "#separando o dataframe de testes e o de treinamento\n",
    "\n",
    "# pega 70% do dataset aleatoriamente\n",
    "train = df.sample(frac=0.7, random_state=rng)\n",
    "\n",
    "# Pega os 30% restantes e coloca em testes\n",
    "test = df.loc[~df.index.isin(train.index)]\n",
    "\n",
    "train.head()\n"
   ]
  },
  {
   "cell_type": "code",
   "execution_count": 166,
   "metadata": {},
   "outputs": [
    {
     "data": {
      "text/html": [
       "<div>\n",
       "<style scoped>\n",
       "    .dataframe tbody tr th:only-of-type {\n",
       "        vertical-align: middle;\n",
       "    }\n",
       "\n",
       "    .dataframe tbody tr th {\n",
       "        vertical-align: top;\n",
       "    }\n",
       "\n",
       "    .dataframe thead th {\n",
       "        text-align: right;\n",
       "    }\n",
       "</style>\n",
       "<table border=\"1\" class=\"dataframe\">\n",
       "  <thead>\n",
       "    <tr style=\"text-align: right;\">\n",
       "      <th></th>\n",
       "      <th>Idade_hst</th>\n",
       "      <th>Leucocitos</th>\n",
       "      <th>Plaquetas</th>\n",
       "      <th>Neutrofilos</th>\n",
       "      <th>Linfocitos</th>\n",
       "      <th>Monocitos</th>\n",
       "      <th>Eosinofilos</th>\n",
       "      <th>Basofilos</th>\n",
       "      <th>Exame</th>\n",
       "    </tr>\n",
       "  </thead>\n",
       "  <tbody>\n",
       "    <tr>\n",
       "      <th>14</th>\n",
       "      <td>18</td>\n",
       "      <td>-0.823702</td>\n",
       "      <td>0.035307</td>\n",
       "      <td>0.560972</td>\n",
       "      <td>-0.884230</td>\n",
       "      <td>0.909074</td>\n",
       "      <td>0.260116</td>\n",
       "      <td>1.303529</td>\n",
       "      <td>positive</td>\n",
       "    </tr>\n",
       "    <tr>\n",
       "      <th>16</th>\n",
       "      <td>19</td>\n",
       "      <td>-0.898837</td>\n",
       "      <td>-0.894267</td>\n",
       "      <td>0.388879</td>\n",
       "      <td>-0.346900</td>\n",
       "      <td>0.593916</td>\n",
       "      <td>-0.835508</td>\n",
       "      <td>0.081693</td>\n",
       "      <td>positive</td>\n",
       "    </tr>\n",
       "    <tr>\n",
       "      <th>17</th>\n",
       "      <td>11</td>\n",
       "      <td>-0.893272</td>\n",
       "      <td>-0.944515</td>\n",
       "      <td>-2.233470</td>\n",
       "      <td>2.152110</td>\n",
       "      <td>1.197969</td>\n",
       "      <td>-0.666950</td>\n",
       "      <td>0.081693</td>\n",
       "      <td>positive</td>\n",
       "    </tr>\n",
       "    <tr>\n",
       "      <th>20</th>\n",
       "      <td>12</td>\n",
       "      <td>0.275501</td>\n",
       "      <td>0.273981</td>\n",
       "      <td>1.232949</td>\n",
       "      <td>-1.268037</td>\n",
       "      <td>0.646442</td>\n",
       "      <td>-0.709090</td>\n",
       "      <td>0.081693</td>\n",
       "      <td>positive</td>\n",
       "    </tr>\n",
       "    <tr>\n",
       "      <th>21</th>\n",
       "      <td>12</td>\n",
       "      <td>-0.662300</td>\n",
       "      <td>-0.529975</td>\n",
       "      <td>0.667504</td>\n",
       "      <td>-0.679533</td>\n",
       "      <td>0.488863</td>\n",
       "      <td>-0.456253</td>\n",
       "      <td>0.081693</td>\n",
       "      <td>positive</td>\n",
       "    </tr>\n",
       "  </tbody>\n",
       "</table>\n",
       "</div>"
      ],
      "text/plain": [
       "    Idade_hst  Leucocitos  Plaquetas  Neutrofilos  Linfocitos  Monocitos  \\\n",
       "14         18   -0.823702   0.035307     0.560972   -0.884230   0.909074   \n",
       "16         19   -0.898837  -0.894267     0.388879   -0.346900   0.593916   \n",
       "17         11   -0.893272  -0.944515    -2.233470    2.152110   1.197969   \n",
       "20         12    0.275501   0.273981     1.232949   -1.268037   0.646442   \n",
       "21         12   -0.662300  -0.529975     0.667504   -0.679533   0.488863   \n",
       "\n",
       "    Eosinofilos  Basofilos     Exame  \n",
       "14     0.260116   1.303529  positive  \n",
       "16    -0.835508   0.081693  positive  \n",
       "17    -0.666950   0.081693  positive  \n",
       "20    -0.709090   0.081693  positive  \n",
       "21    -0.456253   0.081693  positive  "
      ]
     },
     "execution_count": 166,
     "metadata": {},
     "output_type": "execute_result"
    }
   ],
   "source": [
    "test.head()"
   ]
  },
  {
   "cell_type": "markdown",
   "metadata": {},
   "source": [
    "# Criando uma árvore de decisão\n",
    "\n",
    "<text> È preciso separar as variáveis que serão usa para a previsão, dá variável que será prevista. As variaǘeis de previsão são armazenadas no array X e a variável para prever será separada em y </text>"
   ]
  },
  {
   "cell_type": "code",
   "execution_count": 167,
   "metadata": {},
   "outputs": [],
   "source": [
    "X_train = train.loc[:, df.columns != 'Exame']"
   ]
  },
  {
   "cell_type": "code",
   "execution_count": 168,
   "metadata": {},
   "outputs": [],
   "source": [
    "y_train = train['Exame']"
   ]
  },
  {
   "cell_type": "code",
   "execution_count": 169,
   "metadata": {},
   "outputs": [
    {
     "data": {
      "text/plain": [
       "DecisionTreeClassifier(max_depth=4, random_state=10)"
      ]
     },
     "execution_count": 169,
     "metadata": {},
     "output_type": "execute_result"
    }
   ],
   "source": [
    "tree = DecisionTreeClassifier(max_depth = 4, criterion='gini', random_state=10, splitter='random')\n",
    "treeBest = DecisionTreeClassifier(max_depth = 4, criterion='gini', random_state=10, splitter='best')\n",
    "\n",
    "tree.fit(X_train,y_train)\n",
    "treeBest.fit(X_train, y_train)"
   ]
  },
  {
   "cell_type": "markdown",
   "metadata": {},
   "source": [
    "# Previsão\n",
    "<text>Criada a árvore de decisão, agora faz-se a previsão com base no dataset que foi separado como  </text>"
   ]
  },
  {
   "cell_type": "code",
   "execution_count": 170,
   "metadata": {},
   "outputs": [],
   "source": [
    "X_test = test.loc[:, df.columns != 'Exame']"
   ]
  },
  {
   "cell_type": "code",
   "execution_count": 171,
   "metadata": {},
   "outputs": [],
   "source": [
    "y_test = test['Exame']"
   ]
  },
  {
   "cell_type": "code",
   "execution_count": 172,
   "metadata": {},
   "outputs": [],
   "source": [
    "y_pred = tree.predict(X_test)\n",
    "y_pred_best = treeBest.predict(X_test)"
   ]
  },
  {
   "cell_type": "markdown",
   "metadata": {},
   "source": [
    "# previsão para a árvore padrão"
   ]
  },
  {
   "cell_type": "code",
   "execution_count": 173,
   "metadata": {},
   "outputs": [
    {
     "name": "stdout",
     "output_type": "stream",
     "text": [
      "Accuracy: 0.6944444444444444\n"
     ]
    }
   ],
   "source": [
    "print(\"Accuracy:\",metrics.accuracy_score(y_test, y_pred))"
   ]
  },
  {
   "cell_type": "markdown",
   "metadata": {},
   "source": [
    "# Previsão para árvore melhor"
   ]
  },
  {
   "cell_type": "code",
   "execution_count": 174,
   "metadata": {},
   "outputs": [
    {
     "name": "stdout",
     "output_type": "stream",
     "text": [
      "Accuracy: 0.8055555555555556\n"
     ]
    }
   ],
   "source": [
    "print(\"Accuracy:\",metrics.accuracy_score(y_test, y_pred_best))"
   ]
  },
  {
   "cell_type": "code",
   "execution_count": null,
   "metadata": {},
   "outputs": [],
   "source": []
  },
  {
   "cell_type": "code",
   "execution_count": null,
   "metadata": {},
   "outputs": [],
   "source": []
  }
 ],
 "metadata": {
  "kernelspec": {
   "display_name": "Python 3",
   "language": "python",
   "name": "python3"
  },
  "language_info": {
   "codemirror_mode": {
    "name": "ipython",
    "version": 3
   },
   "file_extension": ".py",
   "mimetype": "text/x-python",
   "name": "python",
   "nbconvert_exporter": "python",
   "pygments_lexer": "ipython3",
   "version": "3.8.3"
  }
 },
 "nbformat": 4,
 "nbformat_minor": 4
}
