{
 "cells": [
  {
   "cell_type": "code",
   "execution_count": 19,
   "metadata": {},
   "outputs": [],
   "source": [
    "import pandas as pd\n",
    "import numpy as np\n",
    "import matplotlib.pyplot as plt\n",
    "from sklearn.tree import DecisionTreeClassifier\n",
    "from sklearn.ensemble import RandomForestClassifier\n",
    "from sklearn.model_selection import cross_val_score"
   ]
  },
  {
   "cell_type": "markdown",
   "metadata": {},
   "source": [
    "# Separando o dataset de treinamento do dataset de teste\n",
    "<text>\n",
    "Os dados foram separados colocando 70% do dataset aleatoriamente como treinamento, e o que sobra vai para o teste.\n",
    "</text>"
   ]
  },
  {
   "cell_type": "code",
   "execution_count": 20,
   "metadata": {},
   "outputs": [
    {
     "name": "stdout",
     "output_type": "stream",
     "text": [
      "(120, 8) (120,)\n"
     ]
    }
   ],
   "source": [
    "df = pd.read_csv('covid_Einstein.csv')\n",
    "\n",
    "#separando o dataframe de testes e o de treinamento\n",
    "X = df.loc[:, df.columns != 'Exame']\n",
    "y =  df['Exame']\n",
    "\n",
    "print(X.shape, y.shape)"
   ]
  },
  {
   "cell_type": "markdown",
   "metadata": {},
   "source": [
    "# Criando as árvores de decisão\n",
    "\n",
    "<text>\n",
    "Uma das árvores utiliza o splitter aleatório enquanto a outra usa o aprimorado.\n",
    "</text>\n",
    "\n",
    "<text> \n",
    "Foi usado um cross-validation \"splittando\" os dados em 10 iterações.\n",
    "</text>"
   ]
  },
  {
   "cell_type": "code",
   "execution_count": 35,
   "metadata": {},
   "outputs": [],
   "source": [
    "forest_default = RandomForestClassifier(random_state=10)\n",
    "forest_best = RandomForestClassifier(n_estimators= 200, random_state=10, max_depth=4)\n",
    "\n",
    "scores_default = cross_val_score(forest_default, X, y, cv=10)\n",
    "scores_best = cross_val_score(forest_best, X, y, cv=10)\n"
   ]
  },
  {
   "cell_type": "markdown",
   "metadata": {},
   "source": [
    "# Previsão\n",
    "<text>Agora vamos checar os valores de acurácia que resultaram dos 10 splits de cada árvore, bme como a acurácia de cada uma  </text>"
   ]
  },
  {
   "cell_type": "code",
   "execution_count": 36,
   "metadata": {},
   "outputs": [
    {
     "data": {
      "text/plain": [
       "array([0.91666667, 0.75      , 0.91666667, 0.66666667, 0.83333333,\n",
       "       0.66666667, 0.91666667, 0.75      , 0.75      , 0.91666667])"
      ]
     },
     "execution_count": 36,
     "metadata": {},
     "output_type": "execute_result"
    }
   ],
   "source": [
    "scores_default"
   ]
  },
  {
   "cell_type": "code",
   "execution_count": 37,
   "metadata": {},
   "outputs": [
    {
     "data": {
      "text/plain": [
       "{'whiskers': [<matplotlib.lines.Line2D at 0x7f09b60dc970>,\n",
       "  <matplotlib.lines.Line2D at 0x7f09b60dc0d0>],\n",
       " 'caps': [<matplotlib.lines.Line2D at 0x7f09b5f7cd00>,\n",
       "  <matplotlib.lines.Line2D at 0x7f09b5f7c940>],\n",
       " 'boxes': [<matplotlib.lines.Line2D at 0x7f09b60dc1c0>],\n",
       " 'medians': [<matplotlib.lines.Line2D at 0x7f09b6002c10>],\n",
       " 'fliers': [<matplotlib.lines.Line2D at 0x7f09b60b2a00>],\n",
       " 'means': []}"
      ]
     },
     "execution_count": 37,
     "metadata": {},
     "output_type": "execute_result"
    },
    {
     "data": {
      "image/png": "[encoded data removed]",
      "text/plain": [
       "<Figure size 432x288 with 1 Axes>"
      ]
     },
     "metadata": {
      "needs_background": "light"
     },
     "output_type": "display_data"
    }
   ],
   "source": [
    "fig1, ax1 = plt.subplots()\n",
    "ax1.set_title('plot dos scores da floresta padrão')\n",
    "ax1.boxplot(scores_default)"
   ]
  },
  {
   "cell_type": "code",
   "execution_count": 38,
   "metadata": {},
   "outputs": [
    {
     "data": {
      "text/plain": [
       "array([0.91666667, 0.75      , 0.91666667, 0.66666667, 0.83333333,\n",
       "       0.75      , 0.91666667, 0.75      , 0.75      , 0.91666667])"
      ]
     },
     "execution_count": 38,
     "metadata": {},
     "output_type": "execute_result"
    }
   ],
   "source": [
    "scores_best"
   ]
  },
  {
   "cell_type": "code",
   "execution_count": 39,
   "metadata": {},
   "outputs": [
    {
     "data": {
      "text/plain": [
       "{'whiskers': [<matplotlib.lines.Line2D at 0x7f09b5e180d0>,\n",
       "  <matplotlib.lines.Line2D at 0x7f09b5e18430>],\n",
       " 'caps': [<matplotlib.lines.Line2D at 0x7f09b5e18790>,\n",
       "  <matplotlib.lines.Line2D at 0x7f09b5e18af0>],\n",
       " 'boxes': [<matplotlib.lines.Line2D at 0x7f09b5e09d30>],\n",
       " 'medians': [<matplotlib.lines.Line2D at 0x7f09b5e18e50>],\n",
       " 'fliers': [<matplotlib.lines.Line2D at 0x7f09b5e231f0>],\n",
       " 'means': []}"
      ]
     },
     "execution_count": 39,
     "metadata": {},
     "output_type": "execute_result"
    },
    {
     "data": {
      "image/png": "[encoded data removed]",
      "text/plain": [
       "<Figure size 432x288 with 1 Axes>"
      ]
     },
     "metadata": {
      "needs_background": "light"
     },
     "output_type": "display_data"
    }
   ],
   "source": [
    "fig1, ax1 = plt.subplots()\n",
    "ax1.set_title('plot dos scores da floresta melhor')\n",
    "ax1.boxplot(scores_best)"
   ]
  },
  {
   "cell_type": "markdown",
   "metadata": {},
   "source": [
    "# previsão para a árvore padrão"
   ]
  },
  {
   "cell_type": "code",
   "execution_count": 40,
   "metadata": {},
   "outputs": [
    {
     "name": "stdout",
     "output_type": "stream",
     "text": [
      "Accuracy: 0.81 (+/- 0.20)\n"
     ]
    }
   ],
   "source": [
    "print(\"Accuracy: %0.2f (+/- %0.2f)\" % (scores_default.mean(), scores_default.std() * 2))"
   ]
  },
  {
   "cell_type": "markdown",
   "metadata": {},
   "source": [
    "# Previsão para árvore melhor"
   ]
  },
  {
   "cell_type": "code",
   "execution_count": 41,
   "metadata": {},
   "outputs": [
    {
     "name": "stdout",
     "output_type": "stream",
     "text": [
      "Accuracy: 0.82 (+/- 0.18)\n"
     ]
    }
   ],
   "source": [
    "print(\"Accuracy: %0.2f (+/- %0.2f)\" % (scores_best.mean(), scores_best.std() * 2))"
   ]
  }
 ],
 "metadata": {
  "kernelspec": {
   "display_name": "Python 3",
   "language": "python",
   "name": "python3"
  },
  "language_info": {
   "codemirror_mode": {
    "name": "ipython",
    "version": 3
   },
   "file_extension": ".py",
   "mimetype": "text/x-python",
   "name": "python",
   "nbconvert_exporter": "python",
   "pygments_lexer": "ipython3",
   "version": "3.8.3"
  }
 },
 "nbformat": 4,
 "nbformat_minor": 4
}
